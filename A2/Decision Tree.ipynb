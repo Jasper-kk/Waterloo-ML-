{
 "cells": [
  {
   "cell_type": "markdown",
   "metadata": {},
   "source": [
    "# Decision Tree"
   ]
  },
  {
   "cell_type": "code",
   "execution_count": 3,
   "metadata": {},
   "outputs": [
    {
     "name": "stdout",
     "output_type": "stream",
     "text": [
      "      Age_Group Client_Gender Case_AcquisitionInfo Reporting_PHU_City  \\\n",
      "2           90s        FEMALE                   OB             Barrie   \n",
      "4           90s        FEMALE                   OB             Ottawa   \n",
      "5           60s          MALE                   OB          Newmarket   \n",
      "8           90s        FEMALE                   OB            Toronto   \n",
      "9           90s        FEMALE                   OB            Toronto   \n",
      "...         ...           ...                  ...                ...   \n",
      "14837       80s        FEMALE                   OB            Thorold   \n",
      "14838       80s        FEMALE                   OB        Mississauga   \n",
      "14839       80s          MALE                   OB          Newmarket   \n",
      "14845       80s        FEMALE                   OB            Toronto   \n",
      "14848       80s          MALE                   OB            Thorold   \n",
      "\n",
      "      Outbreak_Related  Reporting_PHU_Latitude  Reporting_PHU_Longitude  \\\n",
      "2                  Yes               44.410713               -79.686306   \n",
      "4                  Yes               45.345665               -75.763912   \n",
      "5                  Yes               44.048023               -79.480239   \n",
      "8                  Yes               43.656591               -79.379358   \n",
      "9                  Yes               43.656591               -79.379358   \n",
      "...                ...                     ...                      ...   \n",
      "14837              Yes               43.116537               -79.241220   \n",
      "14838              Yes               43.647471               -79.708893   \n",
      "14839              Yes               44.048023               -79.480239   \n",
      "14845              Yes               43.656591               -79.379358   \n",
      "14848              Yes               43.116537               -79.241220   \n",
      "\n",
      "           Outcome1  \n",
      "2          Resolved  \n",
      "4             Fatal  \n",
      "5             Fatal  \n",
      "8             Fatal  \n",
      "9             Fatal  \n",
      "...             ...  \n",
      "14837         Fatal  \n",
      "14838  Not Resolved  \n",
      "14839         Fatal  \n",
      "14845         Fatal  \n",
      "14848         Fatal  \n",
      "\n",
      "[5830 rows x 8 columns]\n",
      "[[ 7.  0.  3. ... 21. 18.  2.]\n",
      " [ 7.  0.  3. ... 25. 29.  0.]\n",
      " [ 4.  2.  3. ... 17. 20.  0.]\n",
      " ...\n",
      " [ 6.  2.  3. ... 17. 20.  0.]\n",
      " [ 6.  0.  3. ... 14. 21.  0.]\n",
      " [ 6.  2.  3. ...  6. 22.  0.]]\n",
      "0.7629502572898799\n",
      "0.7612349914236708\n",
      "0.7617495711835335\n",
      "0.7665523156089193\n"
     ]
    },
    {
     "data": {
      "image/png": "[encoded data removed]",
      "text/plain": [
       "<Figure size 432x288 with 1 Axes>"
      ]
     },
     "metadata": {
      "needs_background": "light"
     },
     "output_type": "display_data"
    },
    {
     "data": {
      "text/plain": [
       "DecisionTreeClassifier(max_depth=10, random_state=42)"
      ]
     },
     "execution_count": 3,
     "metadata": {},
     "output_type": "execute_result"
    }
   ],
   "source": [
    "import pandas as pd\n",
    "import seaborn as sns\n",
    "import matplotlib.pyplot as plt\n",
    "from sklearn.preprocessing import OrdinalEncoder\n",
    "from sklearn.tree import DecisionTreeClassifier\n",
    "from sklearn.model_selection import train_test_split\n",
    "from sklearn.metrics import accuracy_score\n",
    "from sklearn.model_selection import cross_val_score # input the function of cross validation\n",
    "from sklearn.tree import export_graphviz\n",
    "import os\n",
    "\n",
    "train_covid = pd.read_csv(r\"/Users/tangxikai/Desktop/covid_train.csv\")\n",
    "new_covid = train_covid.dropna()\n",
    "print (new_covid)\n",
    "\n",
    "#Filter missing values\n",
    "new_covid[new_covid.notnull()]\n",
    "\n",
    "#convert categorical features to numerical\n",
    "covid_encoder = OrdinalEncoder()\n",
    "covid_encoded = covid_encoder.fit_transform(new_covid)\n",
    "print (covid_encoded)\n",
    "\n",
    "#decision tree\n",
    "x_feature = covid_encoded[:,0:7]\n",
    "y_target = covid_encoded[:,7:8]\n",
    "depth = [0,3,5,10]\n",
    "accuracy=[]\n",
    "tree_clf = DecisionTreeClassifier(random_state=42)\n",
    "\n",
    "#10-fold cross validation\n",
    "metric = cross_val_score(tree_clf,x_feature,y_target,cv=10) \n",
    "print(metric.mean())\n",
    "\n",
    "accuracy.append(metric.mean()) #x:depth y accuracy\n",
    "for i in range(len(depth)-1):\n",
    "    tree_clf = DecisionTreeClassifier(max_depth=depth[i+1],random_state=42)\n",
    "    #ten cross validation\n",
    "    metric = cross_val_score(tree_clf,x_feature,y_target,cv=10) \n",
    "    print(metric.mean())\n",
    "    \n",
    "    accuracy.append(metric.mean()) #x:deph y accuracy\n",
    "#plot the mean accuracy versus the maximum depth\n",
    "plt.plot(depth, accuracy, 'o-') \n",
    "plt.show()\n",
    "\n",
    "tree_clf = DecisionTreeClassifier(max_depth=10,random_state=42)\n",
    "tree_clf.fit(x_feature,y_target)\n",
    "\n",
    "\n",
    "#examine the final resulting splitting rules used for the trees\n",
    "from sklearn.tree import export_graphviz\n",
    "export_graphviz(\n",
    "        tree_clf,\n",
    "        out_file=os.path.join(IMAGES_PATH,\"covid_tree.dot\"),\n",
    "        feature_names=['Age_Group','Client_Gender','Case_AcquisitionInfo','Reporting_PHU_City','Outbreak_Related','Reporting_PHU_Latitude','Reporting_PHU_Longitude'],\n",
    "        class_names=['Fatal','Resolved','Not Resolved'],\n",
    "        rounded=True,\n",
    "        filled=True\n",
    "        )"
   ]
  }
 ],
 "metadata": {
  "kernelspec": {
   "display_name": "Python 3",
   "language": "python",
   "name": "python3"
  },
  "language_info": {
   "codemirror_mode": {
    "name": "ipython",
    "version": 3
   },
   "file_extension": ".py",
   "mimetype": "text/x-python",
   "name": "python",
   "nbconvert_exporter": "python",
   "pygments_lexer": "ipython3",
   "version": "3.8.5"
  }
 },
 "nbformat": 4,
 "nbformat_minor": 4
}
